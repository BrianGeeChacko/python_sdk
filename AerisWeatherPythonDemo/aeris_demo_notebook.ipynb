{
 "cells": [
  {
   "cell_type": "markdown",
   "metadata": {},
   "source": [
    "# AerisWeather Python SDK\n",
    "----  \n",
    " \n",
    "The AerisWeather Python SDK is a coding toolkit created to streamline integrating data from the [AerisWeather API](https://www.aerisweather.com/support/docs/api/) into Python applications.  \n",
    "\n",
    "In other words, the goal of the SDK is to make it easier to get weather data into your Python app. While working towards that goal, we also tried to make the SDK as \"Pythonic\" as possible, embracing some of our favorite core tenets of the [Zen of Python (PEP20)](https://www.python.org/dev/peps/pep-0020/#id3):\n",
    "- Simple is better than complex.\n",
    "- Readability counts.\n",
    "- If the implementation is hard to explain, it's a bad idea.  \n",
    "\n",
    "Thanks for checking out the AerisWeather Python SDK. We hope you find it useful, and enjoy using it as much as we enjoyed creating it!  \n",
    "\n",
    "*The AerisWeather Python Team*  \n",
    "\n",
    "----\n",
    "\n",
    "\n",
    "### Downloads\n",
    "The full SDK containing the library, docs and demos is available for download from the project's GitHub page, or from the [Toolkits section](https://www.aerisweather.com/support/docs/toolkits/) of the AerisWeather site.  \n",
    "\n",
    "If you want just the library, that's available all by itself on [PyPi](https://pypi.org/). Most likely though, you'll just want to install it via pip (see Installation in the Getting Started section below).  \n",
    "\n",
    "\n",
    "\n",
    "### Requirements\n",
    "- Python v3.6 or higher.\n",
    "- An active AerisWeather API subscription.\n",
    "\n",
    "*Don't have an active AerisWeather API client account?   \n",
    "Accessing the API data requires an active AerisWeather API subscription, and registration of your application or namespace. You can sign up for a free developer account at the [AerisWeather Sign Up page](https://www.aerisweather.com/signup/) to get your client ID and secret.*\n",
    "\n",
    "\n",
    "\n",
    "### License\n",
    "This SDK is provided free of charge for AerisWeather's customers, and is available for use by them under the [MIT open source](https://opensource.org/licenses/MIT) license.\n",
    "\n",
    "\n",
    "\n",
    "### SDK Contents\n",
    "- Core Library/Package  \n",
    "The AerisWeather Python SDK includes a core Python library that provides simplified fetching and parsing of data from the API, written in Python v3.6.  \n",
    "\n",
    "\n",
    "- Unit Tests  \n",
    "The SDK incudes a full set of unit tests, which are a great source of sample code for accessing the API endpoints. \n",
    "\n",
    "\n",
    "- Docs  \n",
    "A full set of HTML code documentation is provided, outlining class and method structure. More documentation can be found at aerisweather.com, and on the project's GitHub page.  \n",
    "\n",
    "\n",
    "- Demo Project File  \n",
    "AerisWeatherPythonDemo is a Python file containing examples demonstrating a few ways to use the aerisweather package to get data from the AerisWeather API.\n",
    "\n",
    "\n",
    "- Jupyter Notebook  \n",
    "Also in the AerisWeatherPythonDemo folder is a Jupyter Notebook. This is another source of example code. The notebook allows you to experiment with various methods of accessing the API without having to run the demo project.\n",
    "\n",
    "\n",
    "- Readme  \n",
    "\n",
    "\n",
    "- License file  \n",
    "\n",
    "\n",
    "- setup.py  \n",
    "\n"
   ]
  },
  {
   "cell_type": "markdown",
   "metadata": {},
   "source": [
    "\n",
    "\n",
    "## Getting Started  \n",
    "----\n",
    "\n",
    "### Download the SDK  \n",
    "\n",
    "If you haven't already downloaded the SDK, see the Downloads section above and get the SDK and all it's contents.  \n",
    "\n",
    "\n",
    "### Python Demo File or Jupyter Notebook\n",
    "\n",
    "Under the main SDK folder, you'll see the AerisWeatherPythonDemo folder. This folder contains:\n",
    "\n",
    "- aeris_demo.py\n",
    "- aeris_demo_notebook.ipynb  \n",
    "\n",
    "The first, aeris_demo.py is a simple Python file. The other is a Jupyter notebook. Both of these resources contain the same sample code, so you can choose to use either or both to learn more about how the aerisweather library works.  \n",
    "\n",
    "\n",
    "Be aware that whichever path you choose to follow, you will need to install the aerisweather package to the Python environment that supports that resource. We used PyCharm during the creation of the SDK, and used it to run the aeris_demo.py project as well as initialize our Jupyter Kernel.  \n",
    "\n",
    "\n",
    "### Install the aerisweather Package\n",
    "\n",
    "Next, let's get the aerisweather package installed to your Python environment.  \n",
    "\n",
    "To use pip for the installation:\n",
    "\n",
    "    pip install -U --index-url https://pypi.org/simple/ aerisweather==#.#.#  \n",
    "\n",
    "\n",
    "#### Using PyCharm:  \n",
    "\n",
    "If you're using PyCharm as your IDE, go to Settings | Project Interpreter and click the green \"+\" in the upper right. Search for aerisweather and choose to install the package to your Python environment.  \n",
    "\n",
    "*Note: If you're also initializing the Jupyter Kernel from PyCharm, this step will cover that too.*\n",
    "\n",
    "\n",
    "### Set The AerisWeather API Credentials\n",
    "\n",
    "Notice that in both the aeris_demo.py file and the aeris_demo_notebook Jupyter notebook file, the import section has a reference to a \"keys\" module.  \n",
    "\n",
    "    from keys import client_id, client_secret, app_id  \n",
    "\n",
    "The import statement also references client_id and client_secret. These are the AerisWeather API credentials mentioned previously in the Requirements section. The final reference is the application id, which should be the namespace or domain of the application from which you will be accessing the API.  \n",
    "\n",
    "\n",
    "*If you don't have an active AerisWeather API account, check out the Requirements section and get signed up before continuing.* \n",
    "\n",
    "\n",
    "In the keys.py file(s), replace the placeholders with your AerisWeather API client id and secret, and the appropriate namespace or domain for your Python application.\n"
   ]
  },
  {
   "cell_type": "markdown",
   "metadata": {},
   "source": [
    "## Examples\n",
    "----\n",
    "\n",
    "In the following examples, we'll talk about the basics of using the AerisWeather Python lib. The code below shows how to get some weather data by performing a few typical data requests and working with the response from the API.  \n",
    "\n"
   ]
  },
  {
   "cell_type": "markdown",
   "metadata": {},
   "source": [
    "### The AerisWeather Class\n",
    "\n",
    "The first import line we see below is for our main class, aerisweather. Once we have successfully created an aerisweather object, we'll do most of the heavy lifting with it.  \n",
    "\n",
    "\n",
    "The last import is also important to note, and if you've completed setting up your AerisWeather API credentials, it should look familiar. We need this so we can pass our API credentials along with the requests for data.  "
   ]
  },
  {
   "cell_type": "code",
   "execution_count": 1,
   "metadata": {},
   "outputs": [],
   "source": [
    "from aerisweather.aerisweather import AerisWeather\n",
    "from aerisweather.requests.ParameterType import ParameterType\n",
    "from aerisweather.requests.RequestLocation import RequestLocation\n",
    "from aerisweather.requests.RequestAction import RequestAction\n",
    "from aerisweather.requests.RequestFilter import RequestFilter\n",
    "from keys import client_id, client_secret, app_id"
   ]
  },
  {
   "cell_type": "markdown",
   "metadata": {},
   "source": [
    "$~$ \n",
    "\n",
    "Below we see where we're creating the aerisweather object that we'll use to make requests to the API. Once the aerisweather object is created, we'll continue to use it throughout the rest of the examples.\n"
   ]
  },
  {
   "cell_type": "code",
   "execution_count": 2,
   "metadata": {
    "scrolled": false
   },
   "outputs": [],
   "source": [
    "# Set the AerisWeather client id and secret.\n",
    "aeris = AerisWeather(client_id=client_id, client_secret=client_secret, app_id=app_id)\n"
   ]
  },
  {
   "cell_type": "markdown",
   "metadata": {},
   "source": [
    "$~$ \n",
    "\n",
    "Now that we have our aerisweather object, we need two more things, at a minimum, for every request to the database:\n",
    "\n",
    "- an endpoint (what kind of data do we want)\n",
    "- a location  \n"
   ]
  },
  {
   "cell_type": "code",
   "execution_count": 3,
   "metadata": {},
   "outputs": [
    {
     "name": "stdout",
     "output_type": "stream",
     "text": [
      "\n",
      "Observations Example 1:\n",
      "The current weather for minneapolis, mn:\n",
      "Conditions are currently Sunny with a temp of 60°F\n"
     ]
    }
   ],
   "source": [
    "# Create a RequestLocation object to be used with any endpoint requests.\n",
    "loc = RequestLocation(city=\"minneapolis\", state=\"mn\")\n",
    "\n",
    "\n",
    "\"\"\" Observations Request Example 1 \"\"\"\n",
    "# Create a simple observations request with no options. We will receive a list of ObservationsResponse objects\n",
    "obs_list = aeris.observations(location=loc)\n",
    "\n",
    "for obs in obs_list:\n",
    "    # get the AerisPlace responses object\n",
    "    place = obs.place\n",
    "\n",
    "    # get the observations data object\n",
    "    ob = obs.ob\n",
    "\n",
    "    # get some observations data\n",
    "    tempF = ob.tempF\n",
    "    weather = ob.weather\n",
    "\n",
    "    print()\n",
    "    print(\"Observations Example 1:\")\n",
    "    print(\"The current weather for \" + place.name + \", \" + place.state + \":\")\n",
    "    print(\"Conditions are currently \" + weather + \" with a temp of \" + str(tempF) + \"°F\")"
   ]
  },
  {
   "cell_type": "code",
   "execution_count": 4,
   "metadata": {},
   "outputs": [
    {
     "name": "stdout",
     "output_type": "stream",
     "text": [
      "\n",
      "Observations Example 2:\n",
      "The current weather for warrens, wi:\n",
      "Conditions are currently Clear with Mist and Fog with a temp of 30°F\n"
     ]
    }
   ],
   "source": [
    "\"\"\" Observations Request Example 2 \"\"\"\n",
    "# Make the API request and get a list of ObservationResponse objects from the response\n",
    "# (Note: we don't need a RequestLocation object, since we're using Closest with the \"p\" parameter.)\n",
    "obs_list = aeris.observations(action=RequestAction.OBSERVATIONS.CLOSEST,\n",
    "                              filter_=[RequestFilter.OBSERVATIONS.ALL_STATIONS],\n",
    "                              params={ParameterType.OBSERVATIONS.P: \"tomah,wi\",\n",
    "                                      ParameterType.OBSERVATIONS.FIELDS: \"place, ob.tempF,ob.weather\"})\n",
    "for obs in obs_list:\n",
    "    place = obs.place\n",
    "    ob = obs.ob\n",
    "    tempF = ob.tempF\n",
    "    weather = ob.weather\n",
    "\n",
    "    print()\n",
    "    print(\"Observations Example 2:\")\n",
    "    print(\"The current weather for \" + place.name + \", \" + place.state + \":\")\n",
    "    print(\"Conditions are currently \" + weather + \" with a temp of \" + str(tempF) + \"°F\")"
   ]
  },
  {
   "cell_type": "code",
   "execution_count": 5,
   "metadata": {},
   "outputs": [],
   "source": [
    "\"\"\" Forecasts Request Example 1 \"\"\"\n",
    "forecast_list = aeris.forecasts(location=loc,\n",
    "                                params={\n",
    "                                    ParameterType.FORECASTS.FIELDS:\n",
    "                                        \"period.maxTempF,period.minTempF,period.weather,period.isDay\"})\n",
    "\n",
    "for forecast in forecast_list:\n",
    "    if forecast.isDay:\n",
    "        day = forecast.periods[0]\n",
    "        night = forecast.periods[1]\n",
    "    else:\n",
    "        day = forecast.periods[1]\n",
    "        night = forecast.periods[0]\n",
    "\n",
    "    print()\n",
    "    print(\"Forecast Example:\")\n",
    "    print(\"Today expect \" + day.weather + \" with a high temp of \" + str(day.maxTempF) + \"°\")\n",
    "    print(\"Tonight will be \" + night.weather + \" with a low temp of \" + str(night.minTempF) + \"°\")"
   ]
  }
 ],
 "metadata": {
  "kernelspec": {
   "display_name": "Python 3",
   "language": "python",
   "name": "python3"
  },
  "language_info": {
   "codemirror_mode": {
    "name": "ipython",
    "version": 3
   },
   "file_extension": ".py",
   "mimetype": "text/x-python",
   "name": "python",
   "nbconvert_exporter": "python",
   "pygments_lexer": "ipython3",
   "version": "3.6.4"
  }
 },
 "nbformat": 4,
 "nbformat_minor": 1
}
